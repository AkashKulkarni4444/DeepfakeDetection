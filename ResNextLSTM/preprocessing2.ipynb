{
 "cells": [
  {
   "cell_type": "code",
   "execution_count": 1,
   "metadata": {},
   "outputs": [],
   "source": [
    "import os\n",
    "import cv2"
   ]
  },
  {
   "cell_type": "code",
   "execution_count": 3,
   "metadata": {},
   "outputs": [],
   "source": [
    "import torch\n",
    "import torchvision\n",
    "from torchvision import transforms\n",
    "from torch.utils.data import DataLoader\n",
    "from torch.utils.data.dataset import Dataset\n",
    "import numpy as np\n",
    "import cv2\n",
    "import matplotlib.pyplot as plt"
   ]
  },
  {
   "cell_type": "code",
   "execution_count": 4,
   "metadata": {},
   "outputs": [
    {
     "name": "stdout",
     "output_type": "stream",
     "text": [
      "cuda\n"
     ]
    }
   ],
   "source": [
    "device = torch.device(\"cuda\" if torch.cuda.is_available() else \"cpu\")\n",
    "print(device)"
   ]
  },
  {
   "cell_type": "code",
   "execution_count": 5,
   "metadata": {},
   "outputs": [],
   "source": [
    "import cv2\n",
    "import os\n",
    "import glob\n",
    "import face_recognition\n",
    "from tqdm import tqdm\n",
    "\n",
    "# Function to extract frames from video\n",
    "def frame_extract(path):\n",
    "    vidObj = cv2.VideoCapture(path)\n",
    "    success = True\n",
    "    while success:\n",
    "        success, image = vidObj.read()\n",
    "        if success:\n",
    "            yield image\n",
    "\n",
    "# Function to create face videos\n",
    "def create_face_videos(path_list, out_dir):\n",
    "    already_present_count = len(glob.glob(os.path.join(out_dir, '*.mp4')))\n",
    "    print(\"Number of videos already present:\", already_present_count)\n",
    "    \n",
    "    for path in tqdm(path_list):\n",
    "        out_path = os.path.join(out_dir, os.path.basename(path))\n",
    "        if os.path.exists(out_path):\n",
    "            print(\"File already exists:\", out_path)\n",
    "            continue\n",
    "        \n",
    "        frames = []\n",
    "        out = cv2.VideoWriter(out_path, cv2.VideoWriter_fourcc(*'MP4V'), 30, (112, 112))\n",
    "        \n",
    "        for idx, frame in enumerate(frame_extract(path)):\n",
    "            if idx <= 150:\n",
    "                frames.append(frame)\n",
    "                if len(frames) == 4:\n",
    "                    faces = face_recognition.batch_face_locations(frames)\n",
    "                    for i, face in enumerate(faces):\n",
    "                        if len(face) != 0:\n",
    "                            top, right, bottom, left = face[0]\n",
    "                            try:\n",
    "                                out.write(cv2.resize(frames[i][top:bottom, left:right, :], (112, 112)))\n",
    "                            except Exception as e:\n",
    "                                print(\"Error:\", e)\n",
    "                    frames = []\n",
    "                    \n",
    "        out.release()\n",
    "\n",
    "# Example usage:\n",
    "# create_face_videos([\"input_video.mp4\"], \"output_directory\")\n",
    "\n"
   ]
  },
  {
   "cell_type": "code",
   "execution_count": null,
   "metadata": {},
   "outputs": [],
   "source": [
    "input_folder = \"D:/IIIT/IIIT_Shri_City/BTP/code/COMP90055_Research_Project-master/ResNextLSTM/Dataset\"\n",
    "output_folder = \"D:/IIIT/IIIT_Shri_City/BTP/code/COMP90055_Research_Project-master/ResNextLSTM/prodata\""
   ]
  }
 ],
 "metadata": {
  "kernelspec": {
   "display_name": "Python 3",
   "language": "python",
   "name": "python3"
  },
  "language_info": {
   "codemirror_mode": {
    "name": "ipython",
    "version": 3
   },
   "file_extension": ".py",
   "mimetype": "text/x-python",
   "name": "python",
   "nbconvert_exporter": "python",
   "pygments_lexer": "ipython3",
   "version": "3.10.13"
  }
 },
 "nbformat": 4,
 "nbformat_minor": 2
}
